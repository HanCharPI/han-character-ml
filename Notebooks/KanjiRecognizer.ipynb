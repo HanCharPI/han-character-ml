{
  "nbformat": 4,
  "nbformat_minor": 0,
  "metadata": {
    "colab": {
      "name": "KanjiRecognizer.ipynb",
      "provenance": [],
      "collapsed_sections": []
    },
    "kernelspec": {
      "name": "python3",
      "display_name": "Python 3"
    }
  },
  "cells": [
    {
      "cell_type": "markdown",
      "metadata": {
        "id": "5Y3fFbT3PwQX"
      },
      "source": [
        "# Kanji Recognizer\n"
      ]
    },
    {
      "cell_type": "markdown",
      "metadata": {
        "id": "NPO2qAubQCDO"
      },
      "source": [
        "by Aiyu Kamate\n",
        "https://towardsdatascience.com/creating-a-japanese-handwriting-recognizer-70be12732889"
      ]
    },
    {
      "cell_type": "markdown",
      "metadata": {
        "id": "39rbEuC0LpH9"
      },
      "source": [
        "##Installing all depenendencies needed\n",
        "1. Python 3.X (any python3 version should work)\n",
        "2. Tensorflow 2.2.0\n",
        "3. Keras 2.4.3\n",
        "4. Numpy 1.16.4\n",
        "6. matplotlib — newest version\n",
        "7. PIL — newest version\n",
        "8. skimage — newest version\n",
        "9. sklearn — newest version\n",
        "10. corelmltools 3.2\n",
        "\n"
      ]
    },
    {
      "cell_type": "markdown",
      "metadata": {
        "id": "MVP8uEBhMsu0"
      },
      "source": [
        "### Check python version"
      ]
    },
    {
      "cell_type": "code",
      "metadata": {
        "colab": {
          "base_uri": "https://localhost:8080/"
        },
        "id": "85lTz41oKspK",
        "outputId": "92018610-e470-4a30-e0da-186d07cf07d4"
      },
      "source": [
        "!python --version"
      ],
      "execution_count": null,
      "outputs": [
        {
          "output_type": "stream",
          "text": [
            "Python 3.6.9\n"
          ],
          "name": "stdout"
        }
      ]
    },
    {
      "cell_type": "markdown",
      "metadata": {
        "id": "YWJTXeu_MwCX"
      },
      "source": [
        "### Install dependencies"
      ]
    },
    {
      "cell_type": "code",
      "metadata": {
        "id": "zmPRWHyrMveb"
      },
      "source": [
        "!pip install tensorflow==2.2.0\n",
        "!pip install keras==2.4.3\n",
        "!pip install numpy\n",
        "!pip install matplotlib\n",
        "!pip install Pillow\n",
        "!pip install scikit-image\n",
        "!pip install sklearn\n",
        "!pip install coremltools==3.2"
      ],
      "execution_count": null,
      "outputs": []
    },
    {
      "cell_type": "markdown",
      "metadata": {
        "id": "OoAtB_tVQDti"
      },
      "source": [
        "## Preprocessing"
      ]
    },
    {
      "cell_type": "markdown",
      "metadata": {
        "id": "EfwXTlUbV7wa"
      },
      "source": [
        "### Reading dataset"
      ]
    },
    {
      "cell_type": "markdown",
      "metadata": {
        "id": "3SRlYTgT5Bn_"
      },
      "source": [
        "Reading Kanji characteres to compress it on a numpy compressed file to make it more flexible to use."
      ]
    },
    {
      "cell_type": "code",
      "metadata": {
        "id": "Vszxds1XQIIi"
      },
      "source": [
        "import struct, os\n",
        "from PIL import Image\n",
        "import numpy as np\n",
        "\n",
        "# Hiragana character to be excluded\n",
        "label = [\"あ\", \"い\", \"う\", \"え\", \"お\", \"か\", \"が\",  \"き\", \"ぎ\",\n",
        "         \"く\", \"ぐ\", \"け\", \"げ\", \"こ\", \"ご\", \"さ\", \"ざ\", \"し\",\n",
        "         \"じ\", \"す\", \"ず\", \"せ\", \"ぜ\", \"そ\", \"ぞ\", \"た\", \"だ\",\n",
        "         \"ち\", \"ぢ\", \"つ\", \"づ\", \"て\", \"で\", \"と\", \"ど\", \"な\",\n",
        "         \"に\", \"ぬ\", \"ね\", \"の\", \"は\", \"ば\", \"ぱ\", \"ひ\", \"び\",\n",
        "         \"ぴ\", \"ふ\", \"ぶ\", \"ぷ\", \"へ\", \"べ\", \"ぺ\", \"ほ\", \"ぼ\",\n",
        "         \"ぽ\", \"ま\", \"み\", \"む\", \"め\", \"も\", \"や\", \"ゆ\", \"よ\",\n",
        "         \"ら\", \"り\", \"る\", \"れ\", \"ろ\", \"わ\", \"を\", \"ん\", \"っ\",\n",
        "         \"ゃ\", \"ゅ\", \"ょ\"]\n",
        "\n",
        "def string_unicode_to_han(unicode):\n",
        "    han_unicode = '\\\\u{}'.format(unicode)\n",
        "    return han_unicode.encode('ascii').decode('unicode-escape')\n",
        "\n",
        "def file_path_narray(filepath):\n",
        "    im = Image.open(filepath)\n",
        "    return im.convert('L')\n",
        "\n",
        "def read_kanji():\n",
        "    \"\"\"\n",
        "    881 - kanji excluding hiragana characters\n",
        "    161 - images by writers\n",
        "    127 - width\n",
        "    128 - height\n",
        "    \"\"\"\n",
        "    kanji = np.zeros([881, 161, 127, 128], dtype=np.uint8) \n",
        "    foldername = \"../dataset/ETL8G/\"\n",
        "    i = 0\n",
        "    print(\"Reading images...\")\n",
        "    for folder in os.scandir(foldername):\n",
        "        # Decode unicode to han character\n",
        "        han_char = string_unicode_to_han(folder.name[2:])\n",
        "\n",
        "        if(han_char not in label):\n",
        "            j = 0\n",
        "            for file in os.scandir(folder.path):\n",
        "                if file.name != \".char.txt\":\n",
        "                    # Convert file to Pillow image and then to numpy array\n",
        "                    iL = file_path_narray(file.path)\n",
        "                    kanji[i, j] =  np.array(iL)\n",
        "                    j += 1\n",
        "            i += 1\n",
        "    print(\"Finished reading images\")\n",
        "    # Finish compressing kanji dataset\n",
        "    print(\"Compressing images...\")\n",
        "    np.savez_compressed(\"kanji.npz\", kanji)\n",
        "    print(\"Finished compressing\")"
      ],
      "execution_count": null,
      "outputs": []
    },
    {
      "cell_type": "code",
      "metadata": {
        "id": "sf42j-PiRi2L"
      },
      "source": [
        "read_kanji()"
      ],
      "execution_count": null,
      "outputs": []
    },
    {
      "cell_type": "markdown",
      "metadata": {
        "id": "SzMeIMp1b1Mf"
      },
      "source": [
        "### Converting data to training and test labels/images"
      ]
    },
    {
      "cell_type": "code",
      "metadata": {
        "id": "MZ_GGB0wcH3l"
      },
      "source": [
        "import skimage.transform\n",
        "import numpy as np\n",
        "from sklearn.model_selection import train_test_split\n",
        "\n",
        "kanji = 881\n",
        "rows = 48\n",
        "cols = 48\n",
        "\n",
        "kan = np.load(\"kanji.npz\")['arr_0'].reshape([-1, 127, 128]).astype(np.float32)\n",
        "\n",
        "kan = kan/np.max(kan)\n",
        "\n",
        "train_images = np.zeros([kanji * 160, rows, cols], dtype=np.float32)\n",
        "\n",
        "arr = np.arange(kanji)\n",
        "train_labels = np.repeat(arr, 160)\n",
        "\n",
        "# Decompressing\n",
        "print(\"Decompressing...\")\n",
        "for i in range( (kanji) * 160):\n",
        "\tif int(i/160) != 88 and int(i/160) != 219 and int(i/160) != 349 and int(i/160) != 457:\n",
        "\t\tif int(i/160) < 88:\n",
        "\t\t\ttrain_images[i] = skimage.transform.resize(kan[i], (rows, cols))\n",
        "\t\tif int(i/160) > 88 and int(i/160) < 219:\n",
        "\t\t\ttrain_images[i-160] = skimage.transform.resize(kan[i], (rows, cols))\n",
        "\t\tif int(i/160) > 219 and int(i/160) < 349:\n",
        "\t\t\ttrain_images[i-320] = skimage.transform.resize(kan[i], (rows, cols))\n",
        "\t\tif int(i/160) > 349 and int(i/160) < 457:\n",
        "\t\t\ttrain_images[i-480] = skimage.transform.resize(kan[i], (rows, cols))\n",
        "\t\tif int(i/160) > 457:\n",
        "\t\t\ttrain_images[i-640] = skimage.transform.resize(kan[i], (rows, cols))\n",
        "      \n",
        "train_images, test_images, train_labels, test_labels = train_test_split(train_images, train_labels, test_size=0.2)\n",
        "print(\"Finished decompressing\")\n",
        "\n",
        "print(\"Initializating compresion...\")\n",
        "np.savez_compressed(\"kanji_train_images.npz\", train_images)\n",
        "np.savez_compressed(\"kanji_train_labels.npz\", train_labels)\n",
        "np.savez_compressed(\"kanji_test_images.npz\", test_images)\n",
        "np.savez_compressed(\"kanji_test_labels.npz\", test_labels)\n",
        "print(\"Finished compresion\")"
      ],
      "execution_count": null,
      "outputs": []
    },
    {
      "cell_type": "markdown",
      "metadata": {
        "id": "Cf46lg2mUwS_"
      },
      "source": [
        "### Visualizing training images"
      ]
    },
    {
      "cell_type": "code",
      "metadata": {
        "id": "MFKXEWbkU1fq",
        "colab": {
          "base_uri": "https://localhost:8080/",
          "height": 378
        },
        "outputId": "74c98d0f-abb8-4c5e-a838-5ed8ccf1e8c5"
      },
      "source": [
        "import matplotlib.pyplot as plt\n",
        "import numpy as np\n",
        "\n",
        "kanjis = np.load(\"kanji_train_images.npz\")['arr_0'].astype(np.float32)\n",
        "\n",
        "print(\"Starting visualization\")\n",
        "plt.figure(figsize=(6,6)).patch.set_facecolor('#ffffff')\n",
        "for i in range(25):\n",
        "    plt.subplot(5,5,i+1)\n",
        "    plt.xticks([])\n",
        "    plt.yticks([])\n",
        "    plt.grid(False)\n",
        "    plt.imshow(kanjis[i], cmap=plt.cm.binary)\n",
        "plt.show()"
      ],
      "execution_count": null,
      "outputs": [
        {
          "output_type": "stream",
          "text": [
            "Starting visualization\n"
          ],
          "name": "stdout"
        },
        {
          "output_type": "display_data",
          "data": {
            "image/png": "[encoded data removed]",
            "text/plain": [
              "<Figure size 432x432 with 25 Axes>"
            ]
          },
          "metadata": {
            "tags": []
          }
        }
      ]
    },
    {
      "cell_type": "markdown",
      "metadata": {
        "id": "GSdTb4PywpZT"
      },
      "source": [
        "## Model"
      ]
    },
    {
      "cell_type": "markdown",
      "metadata": {
        "id": "npslwUQEwyoN"
      },
      "source": [
        "### Model training"
      ]
    },
    {
      "cell_type": "markdown",
      "metadata": {
        "id": "69nfxFXTjf7l"
      },
      "source": [
        "Kanji model training with CNN with the following layer:\n",
        "- Covolution2D: ReLU\n",
        "- MaxPooling2D\n",
        "- Flatten\n",
        "- Dropout\n",
        "- Dense: ReLU\n",
        "- Dense: softmax"
      ]
    },
    {
      "cell_type": "code",
      "metadata": {
        "id": "tEse5S8Xw0kl"
      },
      "source": [
        "from tensorflow import keras\n",
        "import numpy as np\n",
        "from keras.preprocessing.image import ImageDataGenerator\n",
        "from keras import backend as K\n",
        "\n",
        "train_images = np.load(\"kanji_train_images.npz\")['arr_0']\n",
        "train_labels = np.load(\"kanji_train_labels.npz\")['arr_0']\n",
        "test_images = np.load(\"kanji_test_images.npz\")['arr_0']\n",
        "test_labels = np.load(\"kanji_test_labels.npz\")['arr_0']\n",
        "\n",
        "# Images data in ML are represented as 3d arrays:\n",
        "# - width (columns)\n",
        "# - Height (rows)\n",
        "# - Color (channels)\n",
        "# Channels first represent that the channel is the first position\n",
        "# in the 3d array\n",
        "# Channels last represent that the channel is the last position in\n",
        "# the 3d array \n",
        "if K.image_data_format() == \"channels_first\":\n",
        "  train_images = train_images.reshape(train_images.shape[0], 1, 48, 48)\n",
        "  test_images = test_images.reshape(test_images.shape[0], 1, 48, 48)\n",
        "  shape = (1, 48, 48)\n",
        "else:\n",
        "  train_images = train_images.reshape(train_images.shape[0], 48, 48, 1)\n",
        "  test_images = test_images.reshape(test_images.shape[0], 48, 48, 1)\n",
        "  shape = (48, 48, 1)\n",
        "\n",
        "# Set image modification parameter:\n",
        "# Rotation: 15 degree\n",
        "# Zoom: 120%  \n",
        "datagen = ImageDataGenerator(rotation_range=15,zoom_range=0.2)\n",
        "datagen.fit(train_images)\n",
        "# Create model\n",
        "model = keras.Sequential([\n",
        "  keras.layers.Conv2D(64, (3,3), activation='relu', input_shape=shape),\n",
        "  keras.layers.MaxPooling2D(2,2),\n",
        "  keras.layers.Conv2D(64, (3,3), activation='relu'),\n",
        "  keras.layers.MaxPooling2D(2,2),\n",
        "  keras.layers.Flatten(),\n",
        "  keras.layers.Dropout(0.5),\n",
        "  keras.layers.Dense(2048, activation='relu'),\n",
        "  keras.layers.Dense(881, activation=\"softmax\")\n",
        "])\n",
        "\n",
        "#model.summary()\n",
        "\n",
        "model.compile(optimizer='adam', loss=\"sparse_categorical_crossentropy\", metrics=['accuracy'])\n",
        "              \n",
        "model.fit_generator(datagen.flow(train_images,train_labels,shuffle=True),epochs=50,validation_data=(test_images,test_labels),callbacks = [keras.callbacks.EarlyStopping(patience=8,verbose=1,restore_best_weights=True),keras.callbacks.ReduceLROnPlateau(factor=0.5,patience=3,verbose=1)])\n",
        "\n",
        "#test_loss, test_acc = model.evaluate(test_images, test_labels)\n",
        "#print(\"Test Accuracy: \", test_acc)\n",
        "\n",
        "model.save(\"kanji.h5\")"
      ],
      "execution_count": null,
      "outputs": []
    },
    {
      "cell_type": "markdown",
      "metadata": {
        "id": "dCySHiDKj8kT"
      },
      "source": [
        "### Model review"
      ]
    },
    {
      "cell_type": "markdown",
      "metadata": {
        "id": "x1AnOHz_kO5I"
      },
      "source": [
        "Load model"
      ]
    },
    {
      "cell_type": "code",
      "metadata": {
        "id": "-zIgPaADkT7j"
      },
      "source": [
        "model = keras.models.load_model(\"kanji.h5\")"
      ],
      "execution_count": null,
      "outputs": []
    },
    {
      "cell_type": "markdown",
      "metadata": {
        "id": "YfAiZ9LSkEJn"
      },
      "source": [
        "Seeing the summary of the model"
      ]
    },
    {
      "cell_type": "code",
      "metadata": {
        "id": "zYXvfFeekI1-"
      },
      "source": [
        "model.summary()"
      ],
      "execution_count": null,
      "outputs": []
    },
    {
      "cell_type": "markdown",
      "metadata": {
        "id": "594_WhrTkV_Y"
      },
      "source": [
        "Evaluating the model"
      ]
    },
    {
      "cell_type": "code",
      "metadata": {
        "id": "zhidhnaskZkb"
      },
      "source": [
        "# Load test dataset for the evaluation\n",
        "test_images = np.load(\"kanji_test_images.npz\")['arr_0']\n",
        "test_labels = np.load(\"kanji_test_labels.npz\")['arr_0']\n",
        "\n",
        "if K.image_data_format() == \"channels_first\":\n",
        "  test_images = test_images.reshape(test_images.shape[0], 1, 48, 48)\n",
        "  shape = (1, 48, 48)\n",
        "else:\n",
        "  test_images = test_images.reshape(test_images.shape[0], 48, 48, 1)\n",
        "  shape = (48, 48, 1)\n",
        "\n",
        "# Evaluate the model\n",
        "test_loss, test_acc = model.evaluate(test_images, test_labels)\n",
        "print(\"Test Loss:\", test_loss) \n",
        "print(\"Test Accuracy: \", test_acc)"
      ],
      "execution_count": null,
      "outputs": []
    }
  ]
}